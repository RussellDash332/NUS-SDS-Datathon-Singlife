{
  "cells": [
    {
      "cell_type": "markdown",
      "metadata": {
        "id": "t8jA6iDh53Bs"
      },
      "source": [
        "# NUS Datathon Singlife\n",
        "Submission by Team 72: **Nicholas Russell Saerang**"
      ]
    },
    {
      "cell_type": "markdown",
      "metadata": {
        "id": "RL-nKF1J53Bu"
      },
      "source": [
        "## Installation"
      ]
    },
    {
      "cell_type": "code",
      "execution_count": 1,
      "metadata": {
        "id": "qYLrVc-v53Bu"
      },
      "outputs": [],
      "source": [
        "#%pip install pandas\n",
        "#%pip install pyarrow\n",
        "#%pip install numpy\n",
        "#%pip install scikit-learn\n",
        "#%pip install imbalanced-learn\n",
        "#%pip install matplotlib\n",
        "#%pip install tensorflow"
      ]
    },
    {
      "cell_type": "markdown",
      "metadata": {
        "id": "OLv3u64z53Bv"
      },
      "source": [
        "## Imports"
      ]
    },
    {
      "cell_type": "code",
      "execution_count": 2,
      "metadata": {
        "id": "NwJsfWpE53Bv"
      },
      "outputs": [],
      "source": [
        "import pandas as pd\n",
        "import warnings\n",
        "\n",
        "warnings.simplefilter(action='ignore', category=pd.errors.PerformanceWarning)\n",
        "\n",
        "from collections import Counter\n",
        "from imblearn.over_sampling import SMOTE\n",
        "from datetime import datetime, timedelta\n",
        "import numpy as np\n",
        "import os\n",
        "import matplotlib.pyplot as plt\n",
        "from sklearn.model_selection import train_test_split\n",
        "from sklearn.metrics import f1_score, accuracy_score, precision_score, recall_score, confusion_matrix\n",
        "from pandas.api.types import is_string_dtype\n",
        "\n",
        "from tensorflow.keras.models import Sequential\n",
        "from tensorflow.keras.layers import BatchNormalization\n",
        "from tensorflow.keras.layers import Conv2D\n",
        "from tensorflow.keras.layers import MaxPooling2D\n",
        "from tensorflow.keras.layers import Activation\n",
        "from tensorflow.keras.layers import Dropout\n",
        "from tensorflow.keras.layers import Dense\n",
        "from tensorflow.keras.layers import Flatten\n",
        "from tensorflow.keras.layers import Input\n",
        "from tensorflow.keras.models import Model\n",
        "from tensorflow.keras.optimizers import Adam\n",
        "from tensorflow.keras.layers import concatenate\n",
        "from tensorflow.keras.utils import plot_model"
      ]
    },
    {
      "cell_type": "markdown",
      "metadata": {
        "id": "w-qLdIdD53Bw"
      },
      "source": [
        "## Load Data"
      ]
    },
    {
      "cell_type": "code",
      "execution_count": 3,
      "metadata": {
        "colab": {
          "base_uri": "https://localhost:8080/"
        },
        "id": "O6n31Li453Bw",
        "outputId": "6643b5b8-4db6-485a-b73b-6e74f7eae965"
      },
      "outputs": [
        {
          "output_type": "execute_result",
          "data": {
            "text/plain": [
              "(17992, 304)"
            ]
          },
          "metadata": {},
          "execution_count": 3
        }
      ],
      "source": [
        "filepath = os.path.join('data', 'catB_train.parquet')\n",
        "df = pd.read_parquet(filepath)\n",
        "df.shape"
      ]
    },
    {
      "cell_type": "code",
      "execution_count": 4,
      "metadata": {
        "colab": {
          "base_uri": "https://localhost:8080/",
          "height": 256
        },
        "id": "TcBf2P5153Bw",
        "outputId": "c3a4ffda-9ba6-4aa5-f9d7-241fcf09a036"
      },
      "outputs": [
        {
          "output_type": "execute_result",
          "data": {
            "text/plain": [
              "          clntnum race_desc ctrycode_desc clttype stat_flag min_occ_date  \\\n",
              "19550  91b546e924   Chinese     Singapore       P    ACTIVE   2017-10-31   \n",
              "4600   896bae548c   Chinese     Singapore       P    ACTIVE   2007-05-23   \n",
              "13337  f364439ae6    Others     Singapore       P    ACTIVE   2019-08-31   \n",
              "15074  70f319cfe1   Chinese     Singapore       P    ACTIVE   2021-10-18   \n",
              "19724  2647a81328   Chinese     Singapore       P    ACTIVE   2018-07-20   \n",
              "\n",
              "       cltdob_fix cltsex_fix  flg_substandard  flg_is_borderline_standard  \\\n",
              "19550  1974-05-09     Female              0.0                         0.0   \n",
              "4600   1979-11-11       Male              0.0                         0.0   \n",
              "13337  1976-01-28       Male              0.0                         0.0   \n",
              "15074  1976-03-19     Female              0.0                         0.0   \n",
              "19724  1995-07-31     Female              0.0                         0.0   \n",
              "\n",
              "       ...  recency_giclaim  giclaim_cnt_success  recency_giclaim_success  \\\n",
              "19550  ...              NaN                 None                     None   \n",
              "4600   ...              NaN                 None                     None   \n",
              "13337  ...              NaN                 None                     None   \n",
              "15074  ...              NaN                 None                     None   \n",
              "19724  ...              NaN                 None                     None   \n",
              "\n",
              "       giclaim_cnt_unsuccess  recency_giclaim_unsuccess  \\\n",
              "19550                   None                       None   \n",
              "4600                    None                       None   \n",
              "13337                   None                       None   \n",
              "15074                   None                       None   \n",
              "19724                   None                       None   \n",
              "\n",
              "       flg_gi_claim_29d435_ever  flg_gi_claim_058815_ever  \\\n",
              "19550                      None                      None   \n",
              "4600                       None                      None   \n",
              "13337                      None                      None   \n",
              "15074                      None                      None   \n",
              "19724                      None                      None   \n",
              "\n",
              "       flg_gi_claim_42e115_ever  flg_gi_claim_856320_ever  f_purchase_lh  \n",
              "19550                      None                      None            NaN  \n",
              "4600                       None                      None            NaN  \n",
              "13337                      None                      None            NaN  \n",
              "15074                      None                      None            NaN  \n",
              "19724                      None                      None            NaN  \n",
              "\n",
              "[5 rows x 304 columns]"
            ],
            "text/html": [
              "\n",
              "  <div id=\"df-5fd45532-9dd3-43a2-b1a7-ead68e59a0a8\" class=\"colab-df-container\">\n",
              "    <div>\n",
              "<style scoped>\n",
              "    .dataframe tbody tr th:only-of-type {\n",
              "        vertical-align: middle;\n",
              "    }\n",
              "\n",
              "    .dataframe tbody tr th {\n",
              "        vertical-align: top;\n",
              "    }\n",
              "\n",
              "    .dataframe thead th {\n",
              "        text-align: right;\n",
              "    }\n",
              "</style>\n",
              "<table border=\"1\" class=\"dataframe\">\n",
              "  <thead>\n",
              "    <tr style=\"text-align: right;\">\n",
              "      <th></th>\n",
              "      <th>clntnum</th>\n",
              "      <th>race_desc</th>\n",
              "      <th>ctrycode_desc</th>\n",
              "      <th>clttype</th>\n",
              "      <th>stat_flag</th>\n",
              "      <th>min_occ_date</th>\n",
              "      <th>cltdob_fix</th>\n",
              "      <th>cltsex_fix</th>\n",
              "      <th>flg_substandard</th>\n",
              "      <th>flg_is_borderline_standard</th>\n",
              "      <th>...</th>\n",
              "      <th>recency_giclaim</th>\n",
              "      <th>giclaim_cnt_success</th>\n",
              "      <th>recency_giclaim_success</th>\n",
              "      <th>giclaim_cnt_unsuccess</th>\n",
              "      <th>recency_giclaim_unsuccess</th>\n",
              "      <th>flg_gi_claim_29d435_ever</th>\n",
              "      <th>flg_gi_claim_058815_ever</th>\n",
              "      <th>flg_gi_claim_42e115_ever</th>\n",
              "      <th>flg_gi_claim_856320_ever</th>\n",
              "      <th>f_purchase_lh</th>\n",
              "    </tr>\n",
              "  </thead>\n",
              "  <tbody>\n",
              "    <tr>\n",
              "      <th>19550</th>\n",
              "      <td>91b546e924</td>\n",
              "      <td>Chinese</td>\n",
              "      <td>Singapore</td>\n",
              "      <td>P</td>\n",
              "      <td>ACTIVE</td>\n",
              "      <td>2017-10-31</td>\n",
              "      <td>1974-05-09</td>\n",
              "      <td>Female</td>\n",
              "      <td>0.0</td>\n",
              "      <td>0.0</td>\n",
              "      <td>...</td>\n",
              "      <td>NaN</td>\n",
              "      <td>None</td>\n",
              "      <td>None</td>\n",
              "      <td>None</td>\n",
              "      <td>None</td>\n",
              "      <td>None</td>\n",
              "      <td>None</td>\n",
              "      <td>None</td>\n",
              "      <td>None</td>\n",
              "      <td>NaN</td>\n",
              "    </tr>\n",
              "    <tr>\n",
              "      <th>4600</th>\n",
              "      <td>896bae548c</td>\n",
              "      <td>Chinese</td>\n",
              "      <td>Singapore</td>\n",
              "      <td>P</td>\n",
              "      <td>ACTIVE</td>\n",
              "      <td>2007-05-23</td>\n",
              "      <td>1979-11-11</td>\n",
              "      <td>Male</td>\n",
              "      <td>0.0</td>\n",
              "      <td>0.0</td>\n",
              "      <td>...</td>\n",
              "      <td>NaN</td>\n",
              "      <td>None</td>\n",
              "      <td>None</td>\n",
              "      <td>None</td>\n",
              "      <td>None</td>\n",
              "      <td>None</td>\n",
              "      <td>None</td>\n",
              "      <td>None</td>\n",
              "      <td>None</td>\n",
              "      <td>NaN</td>\n",
              "    </tr>\n",
              "    <tr>\n",
              "      <th>13337</th>\n",
              "      <td>f364439ae6</td>\n",
              "      <td>Others</td>\n",
              "      <td>Singapore</td>\n",
              "      <td>P</td>\n",
              "      <td>ACTIVE</td>\n",
              "      <td>2019-08-31</td>\n",
              "      <td>1976-01-28</td>\n",
              "      <td>Male</td>\n",
              "      <td>0.0</td>\n",
              "      <td>0.0</td>\n",
              "      <td>...</td>\n",
              "      <td>NaN</td>\n",
              "      <td>None</td>\n",
              "      <td>None</td>\n",
              "      <td>None</td>\n",
              "      <td>None</td>\n",
              "      <td>None</td>\n",
              "      <td>None</td>\n",
              "      <td>None</td>\n",
              "      <td>None</td>\n",
              "      <td>NaN</td>\n",
              "    </tr>\n",
              "    <tr>\n",
              "      <th>15074</th>\n",
              "      <td>70f319cfe1</td>\n",
              "      <td>Chinese</td>\n",
              "      <td>Singapore</td>\n",
              "      <td>P</td>\n",
              "      <td>ACTIVE</td>\n",
              "      <td>2021-10-18</td>\n",
              "      <td>1976-03-19</td>\n",
              "      <td>Female</td>\n",
              "      <td>0.0</td>\n",
              "      <td>0.0</td>\n",
              "      <td>...</td>\n",
              "      <td>NaN</td>\n",
              "      <td>None</td>\n",
              "      <td>None</td>\n",
              "      <td>None</td>\n",
              "      <td>None</td>\n",
              "      <td>None</td>\n",
              "      <td>None</td>\n",
              "      <td>None</td>\n",
              "      <td>None</td>\n",
              "      <td>NaN</td>\n",
              "    </tr>\n",
              "    <tr>\n",
              "      <th>19724</th>\n",
              "      <td>2647a81328</td>\n",
              "      <td>Chinese</td>\n",
              "      <td>Singapore</td>\n",
              "      <td>P</td>\n",
              "      <td>ACTIVE</td>\n",
              "      <td>2018-07-20</td>\n",
              "      <td>1995-07-31</td>\n",
              "      <td>Female</td>\n",
              "      <td>0.0</td>\n",
              "      <td>0.0</td>\n",
              "      <td>...</td>\n",
              "      <td>NaN</td>\n",
              "      <td>None</td>\n",
              "      <td>None</td>\n",
              "      <td>None</td>\n",
              "      <td>None</td>\n",
              "      <td>None</td>\n",
              "      <td>None</td>\n",
              "      <td>None</td>\n",
              "      <td>None</td>\n",
              "      <td>NaN</td>\n",
              "    </tr>\n",
              "  </tbody>\n",
              "</table>\n",
              "<p>5 rows × 304 columns</p>\n",
              "</div>\n",
              "    <div class=\"colab-df-buttons\">\n",
              "\n",
              "  <div class=\"colab-df-container\">\n",
              "    <button class=\"colab-df-convert\" onclick=\"convertToInteractive('df-5fd45532-9dd3-43a2-b1a7-ead68e59a0a8')\"\n",
              "            title=\"Convert this dataframe to an interactive table.\"\n",
              "            style=\"display:none;\">\n",
              "\n",
              "  <svg xmlns=\"http://www.w3.org/2000/svg\" height=\"24px\" viewBox=\"0 -960 960 960\">\n",
              "    <path d=\"M120-120v-720h720v720H120Zm60-500h600v-160H180v160Zm220 220h160v-160H400v160Zm0 220h160v-160H400v160ZM180-400h160v-160H180v160Zm440 0h160v-160H620v160ZM180-180h160v-160H180v160Zm440 0h160v-160H620v160Z\"/>\n",
              "  </svg>\n",
              "    </button>\n",
              "\n",
              "  <style>\n",
              "    .colab-df-container {\n",
              "      display:flex;\n",
              "      gap: 12px;\n",
              "    }\n",
              "\n",
              "    .colab-df-convert {\n",
              "      background-color: #E8F0FE;\n",
              "      border: none;\n",
              "      border-radius: 50%;\n",
              "      cursor: pointer;\n",
              "      display: none;\n",
              "      fill: #1967D2;\n",
              "      height: 32px;\n",
              "      padding: 0 0 0 0;\n",
              "      width: 32px;\n",
              "    }\n",
              "\n",
              "    .colab-df-convert:hover {\n",
              "      background-color: #E2EBFA;\n",
              "      box-shadow: 0px 1px 2px rgba(60, 64, 67, 0.3), 0px 1px 3px 1px rgba(60, 64, 67, 0.15);\n",
              "      fill: #174EA6;\n",
              "    }\n",
              "\n",
              "    .colab-df-buttons div {\n",
              "      margin-bottom: 4px;\n",
              "    }\n",
              "\n",
              "    [theme=dark] .colab-df-convert {\n",
              "      background-color: #3B4455;\n",
              "      fill: #D2E3FC;\n",
              "    }\n",
              "\n",
              "    [theme=dark] .colab-df-convert:hover {\n",
              "      background-color: #434B5C;\n",
              "      box-shadow: 0px 1px 3px 1px rgba(0, 0, 0, 0.15);\n",
              "      filter: drop-shadow(0px 1px 2px rgba(0, 0, 0, 0.3));\n",
              "      fill: #FFFFFF;\n",
              "    }\n",
              "  </style>\n",
              "\n",
              "    <script>\n",
              "      const buttonEl =\n",
              "        document.querySelector('#df-5fd45532-9dd3-43a2-b1a7-ead68e59a0a8 button.colab-df-convert');\n",
              "      buttonEl.style.display =\n",
              "        google.colab.kernel.accessAllowed ? 'block' : 'none';\n",
              "\n",
              "      async function convertToInteractive(key) {\n",
              "        const element = document.querySelector('#df-5fd45532-9dd3-43a2-b1a7-ead68e59a0a8');\n",
              "        const dataTable =\n",
              "          await google.colab.kernel.invokeFunction('convertToInteractive',\n",
              "                                                    [key], {});\n",
              "        if (!dataTable) return;\n",
              "\n",
              "        const docLinkHtml = 'Like what you see? Visit the ' +\n",
              "          '<a target=\"_blank\" href=https://colab.research.google.com/notebooks/data_table.ipynb>data table notebook</a>'\n",
              "          + ' to learn more about interactive tables.';\n",
              "        element.innerHTML = '';\n",
              "        dataTable['output_type'] = 'display_data';\n",
              "        await google.colab.output.renderOutput(dataTable, element);\n",
              "        const docLink = document.createElement('div');\n",
              "        docLink.innerHTML = docLinkHtml;\n",
              "        element.appendChild(docLink);\n",
              "      }\n",
              "    </script>\n",
              "  </div>\n",
              "\n",
              "\n",
              "<div id=\"df-4b69e4f8-0cd4-4070-acb2-60b89046b350\">\n",
              "  <button class=\"colab-df-quickchart\" onclick=\"quickchart('df-4b69e4f8-0cd4-4070-acb2-60b89046b350')\"\n",
              "            title=\"Suggest charts\"\n",
              "            style=\"display:none;\">\n",
              "\n",
              "<svg xmlns=\"http://www.w3.org/2000/svg\" height=\"24px\"viewBox=\"0 0 24 24\"\n",
              "     width=\"24px\">\n",
              "    <g>\n",
              "        <path d=\"M19 3H5c-1.1 0-2 .9-2 2v14c0 1.1.9 2 2 2h14c1.1 0 2-.9 2-2V5c0-1.1-.9-2-2-2zM9 17H7v-7h2v7zm4 0h-2V7h2v10zm4 0h-2v-4h2v4z\"/>\n",
              "    </g>\n",
              "</svg>\n",
              "  </button>\n",
              "\n",
              "<style>\n",
              "  .colab-df-quickchart {\n",
              "      --bg-color: #E8F0FE;\n",
              "      --fill-color: #1967D2;\n",
              "      --hover-bg-color: #E2EBFA;\n",
              "      --hover-fill-color: #174EA6;\n",
              "      --disabled-fill-color: #AAA;\n",
              "      --disabled-bg-color: #DDD;\n",
              "  }\n",
              "\n",
              "  [theme=dark] .colab-df-quickchart {\n",
              "      --bg-color: #3B4455;\n",
              "      --fill-color: #D2E3FC;\n",
              "      --hover-bg-color: #434B5C;\n",
              "      --hover-fill-color: #FFFFFF;\n",
              "      --disabled-bg-color: #3B4455;\n",
              "      --disabled-fill-color: #666;\n",
              "  }\n",
              "\n",
              "  .colab-df-quickchart {\n",
              "    background-color: var(--bg-color);\n",
              "    border: none;\n",
              "    border-radius: 50%;\n",
              "    cursor: pointer;\n",
              "    display: none;\n",
              "    fill: var(--fill-color);\n",
              "    height: 32px;\n",
              "    padding: 0;\n",
              "    width: 32px;\n",
              "  }\n",
              "\n",
              "  .colab-df-quickchart:hover {\n",
              "    background-color: var(--hover-bg-color);\n",
              "    box-shadow: 0 1px 2px rgba(60, 64, 67, 0.3), 0 1px 3px 1px rgba(60, 64, 67, 0.15);\n",
              "    fill: var(--button-hover-fill-color);\n",
              "  }\n",
              "\n",
              "  .colab-df-quickchart-complete:disabled,\n",
              "  .colab-df-quickchart-complete:disabled:hover {\n",
              "    background-color: var(--disabled-bg-color);\n",
              "    fill: var(--disabled-fill-color);\n",
              "    box-shadow: none;\n",
              "  }\n",
              "\n",
              "  .colab-df-spinner {\n",
              "    border: 2px solid var(--fill-color);\n",
              "    border-color: transparent;\n",
              "    border-bottom-color: var(--fill-color);\n",
              "    animation:\n",
              "      spin 1s steps(1) infinite;\n",
              "  }\n",
              "\n",
              "  @keyframes spin {\n",
              "    0% {\n",
              "      border-color: transparent;\n",
              "      border-bottom-color: var(--fill-color);\n",
              "      border-left-color: var(--fill-color);\n",
              "    }\n",
              "    20% {\n",
              "      border-color: transparent;\n",
              "      border-left-color: var(--fill-color);\n",
              "      border-top-color: var(--fill-color);\n",
              "    }\n",
              "    30% {\n",
              "      border-color: transparent;\n",
              "      border-left-color: var(--fill-color);\n",
              "      border-top-color: var(--fill-color);\n",
              "      border-right-color: var(--fill-color);\n",
              "    }\n",
              "    40% {\n",
              "      border-color: transparent;\n",
              "      border-right-color: var(--fill-color);\n",
              "      border-top-color: var(--fill-color);\n",
              "    }\n",
              "    60% {\n",
              "      border-color: transparent;\n",
              "      border-right-color: var(--fill-color);\n",
              "    }\n",
              "    80% {\n",
              "      border-color: transparent;\n",
              "      border-right-color: var(--fill-color);\n",
              "      border-bottom-color: var(--fill-color);\n",
              "    }\n",
              "    90% {\n",
              "      border-color: transparent;\n",
              "      border-bottom-color: var(--fill-color);\n",
              "    }\n",
              "  }\n",
              "</style>\n",
              "\n",
              "  <script>\n",
              "    async function quickchart(key) {\n",
              "      const quickchartButtonEl =\n",
              "        document.querySelector('#' + key + ' button');\n",
              "      quickchartButtonEl.disabled = true;  // To prevent multiple clicks.\n",
              "      quickchartButtonEl.classList.add('colab-df-spinner');\n",
              "      try {\n",
              "        const charts = await google.colab.kernel.invokeFunction(\n",
              "            'suggestCharts', [key], {});\n",
              "      } catch (error) {\n",
              "        console.error('Error during call to suggestCharts:', error);\n",
              "      }\n",
              "      quickchartButtonEl.classList.remove('colab-df-spinner');\n",
              "      quickchartButtonEl.classList.add('colab-df-quickchart-complete');\n",
              "    }\n",
              "    (() => {\n",
              "      let quickchartButtonEl =\n",
              "        document.querySelector('#df-4b69e4f8-0cd4-4070-acb2-60b89046b350 button');\n",
              "      quickchartButtonEl.style.display =\n",
              "        google.colab.kernel.accessAllowed ? 'block' : 'none';\n",
              "    })();\n",
              "  </script>\n",
              "</div>\n",
              "\n",
              "    </div>\n",
              "  </div>\n"
            ]
          },
          "metadata": {},
          "execution_count": 4
        }
      ],
      "source": [
        "df.head()"
      ]
    },
    {
      "cell_type": "code",
      "execution_count": 5,
      "metadata": {
        "id": "8RIX0Tno53Bw"
      },
      "outputs": [],
      "source": [
        "def minmax_encode(df, col):\n",
        "    \"\"\"\n",
        "    Return dataset including the minmax encoded column and excluding the original column\n",
        "\n",
        "    Constraints:\n",
        "    - col must be a String\n",
        "    - df must be a Pandas Dataframe\n",
        "    - df[col] must be numeric\n",
        "    \"\"\"\n",
        "\n",
        "    maxx = df[col].max()\n",
        "    minx = df[col].min()\n",
        "    out = list(map(lambda x: (x-minx)/(maxx-minx), df[col]))\n",
        "    new_colname = col + \"_minmax\"\n",
        "    df[new_colname] = out\n",
        "    return df.drop(\n",
        "        [col],\n",
        "        axis = 1\n",
        "    )\n",
        "\n",
        "def one_hot_encode(df, col):\n",
        "    \"\"\"\n",
        "    Returns the dataset including the one hot encoded columns and excluding the original column\n",
        "\n",
        "    Constraints:\n",
        "    - col must be a String\n",
        "    - df must be a Pandas Dataframe\n",
        "    - df[col] must be a Series that represents a categorical variable\n",
        "    \"\"\"\n",
        "    ohe_cols = pd.get_dummies(df[col], prefix = col)\n",
        "    output = pd.concat(\n",
        "        [df, ohe_cols],\n",
        "        axis = 1,\n",
        "    ).drop(\n",
        "        [col],\n",
        "        axis = 1\n",
        "    )\n",
        "    return output"
      ]
    },
    {
      "cell_type": "markdown",
      "metadata": {
        "id": "L-Fu2r-853Bx"
      },
      "source": [
        "## Dataset Analysis"
      ]
    },
    {
      "cell_type": "code",
      "execution_count": 6,
      "metadata": {
        "id": "RUDbMi9s53Bx"
      },
      "outputs": [],
      "source": [
        "def preprocess(df, log=0):\n",
        "    all_diff = []\n",
        "    all_same = []\n",
        "\n",
        "    # impute with 0\n",
        "    for col in [\n",
        "        'f_ever_declined_la', 'f_purchase_lh', 'tot_cancel_pols',\n",
        "        'recency_lapse', 'recency_cancel', 'flg_affconnect_show_interest_ever',\n",
        "        'flg_affconnect_ready_to_buy_ever', 'flg_hlthclaim_839f8a_ever',\n",
        "        'flg_hlthclaim_14cb37_ever', 'affcon_visit_days',\n",
        "        'clmcon_visit_days',\n",
        "        'recency_clmcon_regis',\n",
        "        'recency_hlthclaim',\n",
        "        'hlthclaim_cnt_success',\n",
        "        'recency_hlthclaim_success',\n",
        "        'hlthclaim_cnt_unsuccess',\n",
        "        'recency_hlthclaim_unsuccess',\n",
        "        'recency_hlthclaim_839f8a',\n",
        "        'recency_hlthclaim_14cb37',\n",
        "        'recency_giclaim'\n",
        "    ]:\n",
        "        if col in df.columns: # to deal with testing hidden data so f_purchase_lh gets bypassed in already dropped\n",
        "            df[col] = df[col].fillna(0)\n",
        "\n",
        "    # impute with 0 + type conversion\n",
        "    for col in df.columns:\n",
        "        if 'lapse' in col or 'n_months' in col:\n",
        "            df[col] = df[col].fillna(0).apply(int)\n",
        "        elif 'prempaid' in col or 'sumins' in col or col.startswith('ape'):\n",
        "            df[col] = df[col].fillna(0).apply(float)\n",
        "\n",
        "\n",
        "    # impute with median\n",
        "    for col in [\n",
        "        'n_months_since_visit_affcon', 'recency_clmcon',\n",
        "    ]:\n",
        "        df[col] = df[col].fillna(df[col].median())\n",
        "\n",
        "    # impute with mean\n",
        "    for col in [\n",
        "        'hlthclaim_amt', 'giclaim_amt'\n",
        "    ]:\n",
        "        df[col] = df[col].fillna(df[col].mean())\n",
        "        df[col] = df[col].apply(float)\n",
        "\n",
        "    # impute with 1\n",
        "    df['is_dependent_in_at_least_1_policy'] = df['is_dependent_in_at_least_1_policy'].fillna(1)\n",
        "\n",
        "    # impute with Others\n",
        "    df['race_desc'] = df['race_desc'].fillna('Others')\n",
        "\n",
        "    # type conversion + filter all diff columns + all same columns\n",
        "    numerical_columns = {\n",
        "        'hh_20': int,\n",
        "        'pop_20': int,\n",
        "        'hh_size': float,\n",
        "    }\n",
        "    date_columns = ['min_occ_date', 'cltdob_fix']\n",
        "    ok_cols = []\n",
        "    for col in df.columns:\n",
        "        if len(df[col].unique()) == 1:\n",
        "            all_same.append(col)\n",
        "        elif len(df[col].unique()) == df.shape[0]:\n",
        "            all_diff.append(col)\n",
        "        elif col in numerical_columns:\n",
        "            df = df.dropna(subset=[col])\n",
        "            df[col] = df[col].apply(numerical_columns[col])\n",
        "            ok_cols.append(col)\n",
        "        elif col in date_columns:\n",
        "            pass\n",
        "        else:\n",
        "            df = df.dropna(subset=[col])\n",
        "            ok_cols.append(col)\n",
        "\n",
        "    # Take all the OK columns\n",
        "    df = df[ok_cols]\n",
        "    if log: print('Before:', df.shape)\n",
        "\n",
        "    for col in df.columns:\n",
        "        if is_string_dtype(df[col]):\n",
        "            df = one_hot_encode(df, col)\n",
        "        elif col != 'f_purchase_lh':\n",
        "            df = minmax_encode(df, col)\n",
        "\n",
        "    if log: print('After:', df.shape)\n",
        "\n",
        "    return df"
      ]
    },
    {
      "cell_type": "code",
      "execution_count": 7,
      "metadata": {
        "colab": {
          "base_uri": "https://localhost:8080/"
        },
        "id": "_g3Q9tU453By",
        "outputId": "96c3019c-2d05-43cb-c8a8-a48c6a427c92"
      },
      "outputs": [
        {
          "output_type": "stream",
          "name": "stdout",
          "text": [
            "Before: (14667, 238)\n",
            "After: (14667, 256)\n"
          ]
        }
      ],
      "source": [
        "df = preprocess(df, log=1)"
      ]
    },
    {
      "cell_type": "code",
      "execution_count": 8,
      "metadata": {
        "id": "K8PHTYtb53By"
      },
      "outputs": [],
      "source": [
        "y = df['f_purchase_lh']\n",
        "train_data = df.drop(['f_purchase_lh'], axis=1)"
      ]
    },
    {
      "cell_type": "code",
      "source": [
        "Counter(y)"
      ],
      "metadata": {
        "colab": {
          "base_uri": "https://localhost:8080/"
        },
        "id": "PsONzwON9Rif",
        "outputId": "81cb0608-ff24-4035-eeca-7d2b54cf3ab3"
      },
      "execution_count": 9,
      "outputs": [
        {
          "output_type": "execute_result",
          "data": {
            "text/plain": [
              "Counter({0.0: 13986, 1.0: 681})"
            ]
          },
          "metadata": {},
          "execution_count": 9
        }
      ]
    },
    {
      "cell_type": "code",
      "source": [
        "# Deal with imbalance before training\n",
        "train_data, y = SMOTE().fit_resample(train_data, y)"
      ],
      "metadata": {
        "id": "Pa62EFMM-RBh"
      },
      "execution_count": 10,
      "outputs": []
    },
    {
      "cell_type": "code",
      "source": [
        "Counter(y)"
      ],
      "metadata": {
        "colab": {
          "base_uri": "https://localhost:8080/"
        },
        "id": "sJKvXbAF-Wmf",
        "outputId": "a054336b-b5b5-4e36-94f1-015a29695a42"
      },
      "execution_count": 11,
      "outputs": [
        {
          "output_type": "execute_result",
          "data": {
            "text/plain": [
              "Counter({0.0: 13986, 1.0: 13986})"
            ]
          },
          "metadata": {},
          "execution_count": 11
        }
      ]
    },
    {
      "cell_type": "code",
      "execution_count": 12,
      "metadata": {
        "id": "8ypc2JbE53By"
      },
      "outputs": [],
      "source": [
        "X_train, X_valid, y_train, y_valid = train_test_split(train_data, y, test_size=0.2, random_state=42)"
      ]
    },
    {
      "cell_type": "code",
      "source": [
        "Counter(y_train), Counter(y_valid)"
      ],
      "metadata": {
        "colab": {
          "base_uri": "https://localhost:8080/"
        },
        "id": "5m_ldDKp_QGP",
        "outputId": "925fc08f-ba02-4f9d-cb7c-c8438f998cb7"
      },
      "execution_count": 13,
      "outputs": [
        {
          "output_type": "execute_result",
          "data": {
            "text/plain": [
              "(Counter({1.0: 11191, 0.0: 11186}), Counter({0.0: 2800, 1.0: 2795}))"
            ]
          },
          "metadata": {},
          "execution_count": 13
        }
      ]
    },
    {
      "cell_type": "markdown",
      "metadata": {
        "id": "OXbz5tT353By"
      },
      "source": [
        "## Neural Network\n",
        "Because I only have an hour to finish this so feature engineering + further feature extraction is automatically done here :')"
      ]
    },
    {
      "cell_type": "code",
      "execution_count": 14,
      "metadata": {
        "id": "016QbYNZ53Bz"
      },
      "outputs": [],
      "source": [
        "def create_mlp(dim):\n",
        "\tnp.random.seed(42)\n",
        "\tmodel = Sequential()\n",
        "\tmodel.add(Dense(256, input_dim=dim, activation=\"relu\"))\n",
        "\tmodel.add(Dropout(0.1))\n",
        "\tmodel.add(Dense(512, activation=\"relu\"))\n",
        "\tmodel.add(Dropout(0.1))\n",
        "\tmodel.add(Dense(1024, activation=\"relu\"))\n",
        "\tmodel.add(Dropout(0.1))\n",
        "\tmodel.add(Dense(512, activation=\"relu\"))\n",
        "\treturn model"
      ]
    },
    {
      "cell_type": "code",
      "execution_count": 15,
      "metadata": {
        "id": "FxhUbFSK53Bz"
      },
      "outputs": [],
      "source": [
        "mlp = create_mlp(X_train.shape[1])\n",
        "mlp.add(Dense(256, activation=\"relu\"))\n",
        "mlp.add(Dense(512, activation=\"relu\"))\n",
        "mlp.add(Dense(1, activation=\"sigmoid\"))\n",
        "model = mlp"
      ]
    },
    {
      "cell_type": "code",
      "execution_count": 16,
      "metadata": {
        "colab": {
          "base_uri": "https://localhost:8080/"
        },
        "id": "gpdVYERg53Bz",
        "outputId": "86f3ef47-8e3a-407b-bf78-9cfa89e4f93b"
      },
      "outputs": [
        {
          "output_type": "stream",
          "name": "stdout",
          "text": [
            "[INFO] training model...\n",
            "Epoch 1/20\n",
            "44/44 [==============================] - 5s 14ms/step - loss: 0.4642 - accuracy: 0.7703 - val_loss: 0.2345 - val_accuracy: 0.9108\n",
            "Epoch 2/20\n",
            "44/44 [==============================] - 0s 7ms/step - loss: 0.2385 - accuracy: 0.8995 - val_loss: 0.1916 - val_accuracy: 0.9178\n",
            "Epoch 3/20\n",
            "44/44 [==============================] - 0s 7ms/step - loss: 0.1756 - accuracy: 0.9283 - val_loss: 0.1477 - val_accuracy: 0.9441\n",
            "Epoch 4/20\n",
            "44/44 [==============================] - 0s 7ms/step - loss: 0.1418 - accuracy: 0.9436 - val_loss: 0.1416 - val_accuracy: 0.9389\n",
            "Epoch 5/20\n",
            "44/44 [==============================] - 0s 7ms/step - loss: 0.1213 - accuracy: 0.9526 - val_loss: 0.1158 - val_accuracy: 0.9564\n",
            "Epoch 6/20\n",
            "44/44 [==============================] - 0s 6ms/step - loss: 0.1017 - accuracy: 0.9631 - val_loss: 0.1209 - val_accuracy: 0.9541\n",
            "Epoch 7/20\n",
            "44/44 [==============================] - 0s 7ms/step - loss: 0.0993 - accuracy: 0.9634 - val_loss: 0.1168 - val_accuracy: 0.9594\n",
            "Epoch 8/20\n",
            "44/44 [==============================] - 0s 7ms/step - loss: 0.0940 - accuracy: 0.9655 - val_loss: 0.1128 - val_accuracy: 0.9589\n",
            "Epoch 9/20\n",
            "44/44 [==============================] - 0s 6ms/step - loss: 0.0804 - accuracy: 0.9702 - val_loss: 0.1135 - val_accuracy: 0.9585\n",
            "Epoch 10/20\n",
            "44/44 [==============================] - 0s 6ms/step - loss: 0.0719 - accuracy: 0.9741 - val_loss: 0.1067 - val_accuracy: 0.9628\n",
            "Epoch 11/20\n",
            "44/44 [==============================] - 0s 7ms/step - loss: 0.0649 - accuracy: 0.9761 - val_loss: 0.1054 - val_accuracy: 0.9676\n",
            "Epoch 12/20\n",
            "44/44 [==============================] - 0s 6ms/step - loss: 0.0646 - accuracy: 0.9757 - val_loss: 0.1064 - val_accuracy: 0.9662\n",
            "Epoch 13/20\n",
            "44/44 [==============================] - 0s 7ms/step - loss: 0.0575 - accuracy: 0.9787 - val_loss: 0.1133 - val_accuracy: 0.9646\n",
            "Epoch 14/20\n",
            "44/44 [==============================] - 0s 7ms/step - loss: 0.0583 - accuracy: 0.9776 - val_loss: 0.1231 - val_accuracy: 0.9650\n",
            "Epoch 15/20\n",
            "44/44 [==============================] - 0s 6ms/step - loss: 0.0554 - accuracy: 0.9801 - val_loss: 0.0987 - val_accuracy: 0.9689\n",
            "Epoch 16/20\n",
            "44/44 [==============================] - 0s 7ms/step - loss: 0.0533 - accuracy: 0.9800 - val_loss: 0.1006 - val_accuracy: 0.9684\n",
            "Epoch 17/20\n",
            "44/44 [==============================] - 0s 7ms/step - loss: 0.0541 - accuracy: 0.9790 - val_loss: 0.1123 - val_accuracy: 0.9626\n",
            "Epoch 18/20\n",
            "44/44 [==============================] - 0s 6ms/step - loss: 0.0489 - accuracy: 0.9816 - val_loss: 0.1089 - val_accuracy: 0.9673\n",
            "Epoch 19/20\n",
            "44/44 [==============================] - 0s 7ms/step - loss: 0.0454 - accuracy: 0.9836 - val_loss: 0.1051 - val_accuracy: 0.9684\n",
            "Epoch 20/20\n",
            "44/44 [==============================] - 0s 6ms/step - loss: 0.0481 - accuracy: 0.9812 - val_loss: 0.1171 - val_accuracy: 0.9709\n"
          ]
        }
      ],
      "source": [
        "model.compile(loss='binary_crossentropy', optimizer='adam', metrics=['accuracy'])\n",
        "print(\"[INFO] training model...\")\n",
        "history = model.fit(\n",
        "\tx=X_train, y=y_train,\n",
        "\tvalidation_data=(X_valid, y_valid),\n",
        "\tepochs=20, batch_size=512)"
      ]
    },
    {
      "cell_type": "code",
      "execution_count": 17,
      "metadata": {
        "colab": {
          "base_uri": "https://localhost:8080/"
        },
        "id": "kiwYyaeW53Bz",
        "outputId": "945306ff-30de-4fe3-a2d1-ba398a78daad"
      },
      "outputs": [
        {
          "output_type": "stream",
          "name": "stdout",
          "text": [
            "700/700 [==============================] - 2s 3ms/step - loss: 0.0273 - accuracy: 0.9905\n",
            "175/175 [==============================] - 0s 2ms/step - loss: 0.1171 - accuracy: 0.9709\n"
          ]
        },
        {
          "output_type": "execute_result",
          "data": {
            "text/plain": [
              "([0.027342647314071655, 0.9904813170433044],\n",
              " [0.117123082280159, 0.970866858959198])"
            ]
          },
          "metadata": {},
          "execution_count": 17
        }
      ],
      "source": [
        "model.evaluate(X_train, y_train), model.evaluate(X_valid, y_valid)"
      ]
    },
    {
      "cell_type": "markdown",
      "metadata": {
        "id": "oy5Lzugp53Bz"
      },
      "source": [
        "## The cell below is **NOT** to be removed\n",
        "##### The function is to be amended so that it accepts the given input (dataframe) and returns the required output (list).\n",
        "##### It is recommended to test the function out prior to submission\n",
        "-------------------------------------------------------------------------------------------------------------------------------\n",
        "##### The hidden_data parsed into the function below will have the same layout columns wise as the dataset *SENT* to you\n",
        "##### Thus, ensure that steps taken to modify the initial dataset to fit into the model are also carried out in the function below"
      ]
    },
    {
      "cell_type": "code",
      "execution_count": 18,
      "metadata": {
        "id": "FekayNMS53Bz"
      },
      "outputs": [],
      "source": [
        "def testing_hidden_data(hidden_data: pd.DataFrame) -> list:\n",
        "    '''DO NOT REMOVE THIS FUNCTION.\n",
        "\n",
        "The function accepts a dataframe as input and return an iterable (list)\n",
        "of binary classes as output.\n",
        "\n",
        "The function should be coded to test on hidden data\n",
        "and should include any preprocessing functions needed for your model to perform.\n",
        "\n",
        "All relevant code MUST be included in this function.'''\n",
        "    result = np.round(model.predict(preprocess(hidden_data))).ravel()\n",
        "    return result"
      ]
    },
    {
      "cell_type": "markdown",
      "metadata": {
        "id": "y2q4L9Ys53Bz"
      },
      "source": [
        "##### Cell to check testing_hidden_data function"
      ]
    },
    {
      "cell_type": "code",
      "execution_count": 19,
      "metadata": {
        "colab": {
          "base_uri": "https://localhost:8080/"
        },
        "id": "qxvLiCDI53Bz",
        "outputId": "1af0ae3c-3989-4327-d70e-873c6913fc38"
      },
      "outputs": [
        {
          "output_type": "stream",
          "name": "stdout",
          "text": [
            "459/459 [==============================] - 1s 2ms/step\n",
            "[0. 0. 0. ... 0. 0. 0.]\n"
          ]
        }
      ],
      "source": [
        "# This cell should output a list of predictions.\n",
        "test_df = pd.read_parquet(filepath)\n",
        "test_df = test_df.drop(columns=[\"f_purchase_lh\"])\n",
        "print(testing_hidden_data(test_df))"
      ]
    }
  ],
  "metadata": {
    "kernelspec": {
      "display_name": "Python 3",
      "name": "python3"
    },
    "language_info": {
      "codemirror_mode": {
        "name": "ipython",
        "version": 3
      },
      "file_extension": ".py",
      "mimetype": "text/x-python",
      "name": "python",
      "nbconvert_exporter": "python",
      "pygments_lexer": "ipython3",
      "version": "3.9.9"
    },
    "colab": {
      "provenance": [],
      "gpuType": "T4"
    },
    "accelerator": "GPU"
  },
  "nbformat": 4,
  "nbformat_minor": 0
}